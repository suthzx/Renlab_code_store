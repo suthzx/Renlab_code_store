{
 "cells": [
  {
   "cell_type": "code",
   "execution_count": 51,
   "metadata": {},
   "outputs": [],
   "source": [
    "import os \n",
    "import re\n",
    "import pandas as pd\n",
    "os.system(\"cp -r ./RW_*/ML*/ML* .\")\n",
    "\n",
    "df = pd.read_csv(\"./ML_index_select.csv\")\n",
    "df = df.drop_duplicates()"
   ]
  },
  {
   "cell_type": "code",
   "execution_count": 52,
   "metadata": {},
   "outputs": [],
   "source": [
    "df.sort_values(by=\"pred_fe\" , inplace=True, ascending=True) \n",
    "\n",
    "dir_ml_select = df[\"dir\"]\n",
    "\n",
    "#pattern = re.compile(r'](.*)')   # 查找数字\n",
    "#result1 = pattern.findall(r'./RW_[\\'Zn\\', \\'Mg\\', \\'O\\']/spnb_1_cell/195/879.cif')\n",
    "#result1"
   ]
  },
  {
   "cell_type": "code",
   "execution_count": 56,
   "metadata": {},
   "outputs": [
    {
     "name": "stdout",
     "output_type": "stream",
     "text": [
      "'/spnb_1_cell/195/879.cif'\n"
     ]
    },
    {
     "name": "stderr",
     "output_type": "stream",
     "text": [
      "sh: ./RW/bys_opt/bys_work.ipynb: Permission denied\n",
      "sh: ./RW/bys_opt/bys_work.ipynb: Permission denied\n",
      "sh: ./RW/bys_opt/bys_work.ipynb: Permission denied\n",
      "sh: ./RW/bys_opt/bys_work.ipynb: Permission denied\n",
      "sh: ./RW/bys_opt/bys_work.ipynb: Permission denied\n",
      "sh: ./RW/bys_opt/bys_work.ipynb: Permission denied\n"
     ]
    },
    {
     "name": "stdout",
     "output_type": "stream",
     "text": [
      "'/spnb_1_cell/215/2574.cif'\n",
      "'/spnb_1_cell/168/4042.cif'\n",
      "'/spnb_1_cell/183/2372.cif'\n",
      "'/spnb_1_cell/111/499.cif'\n",
      "'/spnb_1_cell/123/1467.cif'\n",
      "'/spnb_1_cell/221/255.cif'\n",
      "'/spnb_1_cell/200/1736.cif'\n",
      "'/spnb_1_cell/207/2200.cif'\n",
      "'/spnb_1_cell/89/2761.cif'\n",
      "'/spnb_1_cell/75/2201.cif'\n"
     ]
    },
    {
     "name": "stderr",
     "output_type": "stream",
     "text": [
      "sh: ./RW/bys_opt/bys_work.ipynb: Permission denied\n",
      "sh: ./RW/bys_opt/bys_work.ipynb: Permission denied\n",
      "sh: ./RW/bys_opt/bys_work.ipynb: Permission denied\n",
      "sh: ./RW/bys_opt/bys_work.ipynb: Permission denied\n",
      "sh: ./RW/bys_opt/bys_work.ipynb: Permission denied\n",
      "sh: ./RW/bys_opt/bys_work.ipynb: Permission denied\n",
      "sh: ./RW/bys_opt/bys_work.ipynb: Permission denied\n",
      "sh: ./RW/bys_opt/bys_work.ipynb: Permission denied\n",
      "sh: ./RW/bys_opt/bys_work.ipynb: Permission denied\n"
     ]
    },
    {
     "name": "stdout",
     "output_type": "stream",
     "text": [
      "'/spnb_1_cell/83/4538.cif'\n",
      "'/spnb_1_cell/115/3697.cif'\n",
      "'/spnb_1_cell/150/138.cif'\n",
      "'/spnb_1_cell/99/347.cif'\n",
      "'/spnb_1_cell/147/995.cif'\n",
      "'/spnb_1_cell/177/2957.cif'\n",
      "'/spnb_1_cell/81/989.cif'\n",
      "'/spnb_1_cell/191/919.cif'\n",
      "'/spnb_1_cell/164/2322.cif'\n"
     ]
    },
    {
     "name": "stderr",
     "output_type": "stream",
     "text": [
      "sh: ./RW/bys_opt/bys_work.ipynb: Permission denied\n",
      "sh: ./RW/bys_opt/bys_work.ipynb: Permission denied\n",
      "sh: ./RW/bys_opt/bys_work.ipynb: Permission denied\n",
      "sh: ./RW/bys_opt/bys_work.ipynb: Permission denied\n",
      "sh: ./RW/bys_opt/bys_work.ipynb: Permission denied\n"
     ]
    }
   ],
   "source": [
    "file_num = 0\n",
    "for i in dir_ml_select[:20]:\n",
    "    pattern = re.compile(r'](.*)') \n",
    "    #print(i)\n",
    "    i = str(pattern.findall(str(i)))\n",
    "    print(i[1:-1])\n",
    "    #print(i)\n",
    "    file_num +=1\n",
    "    try:\n",
    "        os.mkdir(\"./val_dft\")\n",
    "    except:\n",
    "        pass\n",
    "    os.mkdir(\"./val_dft/sample_\"+str(file_num))\n",
    "    os.system(\"cp ./RW_*/\"+i[1:-1]+\" ./val_dft/sample_\"+str(file_num))\n",
    "    os.system(\"./RW/bys_opt/* ./val_dft/sample_\"+str(file_num))"
   ]
  },
  {
   "cell_type": "code",
   "execution_count": 36,
   "metadata": {},
   "outputs": [
    {
     "data": {
      "text/plain": [
       "0"
      ]
     },
     "execution_count": 36,
     "metadata": {},
     "output_type": "execute_result"
    }
   ],
   "source": [
    "os.system(\"cp ./RW_*/\"+i[1:-1]+\" .\")"
   ]
  },
  {
   "cell_type": "code",
   "execution_count": null,
   "metadata": {},
   "outputs": [],
   "source": []
  }
 ],
 "metadata": {
  "kernelspec": {
   "display_name": "pyxtal",
   "language": "python",
   "name": "pyxtal"
  },
  "language_info": {
   "codemirror_mode": {
    "name": "ipython",
    "version": 3
   },
   "file_extension": ".py",
   "mimetype": "text/x-python",
   "name": "python",
   "nbconvert_exporter": "python",
   "pygments_lexer": "ipython3",
   "version": "3.7.10"
  }
 },
 "nbformat": 4,
 "nbformat_minor": 4
}
